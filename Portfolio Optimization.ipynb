{
 "cells": [
  {
   "cell_type": "code",
   "execution_count": 1,
   "id": "9ae01ccb-1711-4a17-a3a4-d9a48743c81d",
   "metadata": {},
   "outputs": [],
   "source": [
    "#import libraries\n",
    "import numpy as np\n",
    "import pandas as pd\n",
    "import yfinance as yf\n",
    "from pytickersymbols import PyTickerSymbols\n",
    "import cvxpy as cp\n",
    "import matplotlib.pyplot as plt\n",
    "import jax"
   ]
  },
  {
   "cell_type": "code",
   "execution_count": 2,
   "id": "fb9dfaf3-3790-4156-a315-6291f25fbe80",
   "metadata": {},
   "outputs": [],
   "source": [
    "#retrieve symbols\n",
    "stock_data = PyTickerSymbols()\n",
    "nasdaq_tickers = stock_data.get_stocks_by_index('NASDAQ 100')\n",
    "symbols = [i['symbol'] for i in nasdaq_tickers]"
   ]
  },
  {
   "cell_type": "code",
   "execution_count": 3,
   "id": "49c8be93-80f5-4537-ac84-c6dcc4889e59",
   "metadata": {},
   "outputs": [],
   "source": [
    "#function to retrieve data for the symbols. Close price is retrieved\n",
    "def data_pull(start_date, end_date):\n",
    "    #date format: YYYY-MM-DD\n",
    "    return yf.download(symbols, start=start_date, end=end_date)"
   ]
  },
  {
   "cell_type": "code",
   "execution_count": 4,
   "id": "09e9e9a9-40e3-42c0-9e81-882ffcee17fd",
   "metadata": {},
   "outputs": [
    {
     "name": "stderr",
     "output_type": "stream",
     "text": [
      "[*********************100%***********************]  101 of 101 completed\n",
      "\n",
      "3 Failed downloads:\n",
      "['SPLK', 'SGEN', 'ATVI']: YFTzMissingError('$%ticker%: possibly delisted; no timezone found')\n"
     ]
    }
   ],
   "source": [
    "#First time period\n",
    "data = data_pull('2018-12-30','2024-01-01')['Close']\n",
    "monthly_close = data.resample('ME').last()"
   ]
  },
  {
   "cell_type": "code",
   "execution_count": 5,
   "id": "cde3f5e6-ec7e-41d1-bd17-dab6cc96d545",
   "metadata": {},
   "outputs": [
    {
     "data": {
      "text/plain": [
       "['ABNB', 'ATVI', 'CRWD', 'DDOG', 'FISV', 'LCID', 'SGEN', 'SPLK', 'ZM']"
      ]
     },
     "execution_count": 5,
     "metadata": {},
     "output_type": "execute_result"
    }
   ],
   "source": [
    "na_columns = monthly_close.columns[monthly_close.isna().any()].tolist()\n",
    "na_columns"
   ]
  },
  {
   "cell_type": "code",
   "execution_count": 6,
   "id": "b347c60a-67ff-4626-adf7-34c4c72adc78",
   "metadata": {},
   "outputs": [
    {
     "name": "stderr",
     "output_type": "stream",
     "text": [
      "[*********************100%***********************]  101 of 101 completed\n",
      "\n",
      "9 Failed downloads:\n",
      "['SPLK', 'SGEN', 'ATVI']: YFTzMissingError('$%ticker%: possibly delisted; no timezone found')\n",
      "['DDOG', 'ZM', 'ABNB', 'FISV', 'LCID', 'CRWD']: YFPricesMissingError('$%ticker%: possibly delisted; no price data found  (1d 2013-12-30 -> 2019-01-01) (Yahoo error = \"Data doesn\\'t exist for startDate = 1388379600, endDate = 1546318800\")')\n"
     ]
    }
   ],
   "source": [
    "#Second time period\n",
    "data2 = data_pull('2013-12-30','2019-01-01')['Close']\n",
    "monthly_close2 = data2.resample('ME').last()"
   ]
  },
  {
   "cell_type": "code",
   "execution_count": 7,
   "id": "00db605e-f86b-4120-87b8-a42fa0536c19",
   "metadata": {},
   "outputs": [
    {
     "data": {
      "text/plain": [
       "['ABNB',\n",
       " 'ATVI',\n",
       " 'CRWD',\n",
       " 'DDOG',\n",
       " 'DOCU',\n",
       " 'FISV',\n",
       " 'JD',\n",
       " 'KHC',\n",
       " 'LCID',\n",
       " 'MRNA',\n",
       " 'OKTA',\n",
       " 'PDD',\n",
       " 'PYPL',\n",
       " 'SGEN',\n",
       " 'SPLK',\n",
       " 'TEAM',\n",
       " 'ZM',\n",
       " 'ZS']"
      ]
     },
     "execution_count": 7,
     "metadata": {},
     "output_type": "execute_result"
    }
   ],
   "source": [
    "na_columns2 = monthly_close2.columns[monthly_close2.isna().any()].tolist()\n",
    "na_columns2"
   ]
  },
  {
   "cell_type": "code",
   "execution_count": 8,
   "id": "456f9a68-81f4-43b2-96e1-3d98fd604a1c",
   "metadata": {},
   "outputs": [
    {
     "name": "stderr",
     "output_type": "stream",
     "text": [
      "[*********************100%***********************]  101 of 101 completed\n",
      "\n",
      "18 Failed downloads:\n",
      "['SPLK', 'SGEN', 'ATVI']: YFTzMissingError('$%ticker%: possibly delisted; no timezone found')\n",
      "['DOCU', 'OKTA', 'PDD', 'MRNA', 'JD', 'ZS', 'DDOG', 'ZM', 'ABNB', 'LCID', 'TEAM', 'FISV', 'CRWD', 'PYPL', 'KHC']: YFPricesMissingError('$%ticker%: possibly delisted; no price data found  (1d 2008-12-30 -> 2014-01-01) (Yahoo error = \"Data doesn\\'t exist for startDate = 1230613200, endDate = 1388552400\")')\n"
     ]
    }
   ],
   "source": [
    "#Third time period\n",
    "data3 = data_pull('2008-12-30','2014-01-01')['Close']\n",
    "monthly_close3 = data3.resample('ME').last()"
   ]
  },
  {
   "cell_type": "code",
   "execution_count": 9,
   "id": "91fc9a24-c02d-418f-be47-4d0912ba5b95",
   "metadata": {},
   "outputs": [
    {
     "data": {
      "text/plain": [
       "['ABNB',\n",
       " 'ATVI',\n",
       " 'AVGO',\n",
       " 'CHTR',\n",
       " 'CRWD',\n",
       " 'DDOG',\n",
       " 'DOCU',\n",
       " 'FISV',\n",
       " 'FTNT',\n",
       " 'JD',\n",
       " 'KHC',\n",
       " 'LCID',\n",
       " 'META',\n",
       " 'MRNA',\n",
       " 'NXPI',\n",
       " 'OKTA',\n",
       " 'PANW',\n",
       " 'PDD',\n",
       " 'PYPL',\n",
       " 'SGEN',\n",
       " 'SPLK',\n",
       " 'TEAM',\n",
       " 'TSLA',\n",
       " 'VRSK',\n",
       " 'WDAY',\n",
       " 'ZM',\n",
       " 'ZS']"
      ]
     },
     "execution_count": 9,
     "metadata": {},
     "output_type": "execute_result"
    }
   ],
   "source": [
    "na_columns3 = monthly_close3.columns[monthly_close3.isna().any()].tolist()\n",
    "na_columns3"
   ]
  },
  {
   "cell_type": "code",
   "execution_count": 10,
   "id": "a7877afc-1bb6-4cc7-bfca-91e75f8188ab",
   "metadata": {},
   "outputs": [],
   "source": [
    "#remove these because the data is unavailable\n",
    "for j in ['SPLK', 'ATVI', 'SGEN']:\n",
    "    if j in symbols:\n",
    "        symbols.remove(j)\n",
    "\n",
    "#remove because there are NA values\n",
    "for j in na_columns:\n",
    "    if j in symbols:\n",
    "        symbols.remove(j)\n",
    "\n",
    "for j in na_columns2:\n",
    "    if j in symbols:\n",
    "        symbols.remove(j)\n",
    "\n",
    "for j in na_columns3:\n",
    "    if j in symbols:\n",
    "        symbols.remove(j)"
   ]
  },
  {
   "cell_type": "code",
   "execution_count": 11,
   "id": "4ff96120-40bb-492f-aeb7-741bb81c0acd",
   "metadata": {},
   "outputs": [
    {
     "name": "stderr",
     "output_type": "stream",
     "text": [
      "[*********************100%***********************]  74 of 74 completed\n",
      "[*********************100%***********************]  74 of 74 completed\n",
      "[*********************100%***********************]  74 of 74 completed\n"
     ]
    }
   ],
   "source": [
    "#retrieve data again but with the NA stocks removed this time\n",
    "data = data_pull('2018-12-30','2024-01-01')['Close']\n",
    "monthly_close = data.resample('ME').last()\n",
    "\n",
    "data2 = data_pull('2013-12-30','2019-01-01')['Close']\n",
    "monthly_close2 = data2.resample('ME').last()\n",
    "\n",
    "data3 = data_pull('2008-12-30','2014-01-01')['Close']\n",
    "monthly_close3 = data3.resample('ME').last()"
   ]
  },
  {
   "cell_type": "code",
   "execution_count": 12,
   "id": "9483b74f-cf97-46b5-a8df-742b8ff1c2f1",
   "metadata": {},
   "outputs": [],
   "source": [
    "#use time period 1 for the main analysis\n",
    "#First, we do everything without the CAPM and its covariance\n",
    "\n",
    "#Calculating monthly returns\n",
    "monthly_returns = monthly_close.pct_change().iloc[1:]\n",
    "\n",
    "#Expected monthly return\n",
    "expected_returns = monthly_returns.mean()\n",
    "\n",
    "#Volatility\n",
    "volatility = monthly_returns.std().to_numpy()\n",
    "\n",
    "#Covariance Matrix\n",
    "covariance_mat = monthly_returns.cov().to_numpy()"
   ]
  },
  {
   "cell_type": "code",
   "execution_count": 13,
   "id": "17e53181-a8a4-4fee-acc9-54d8f4430a83",
   "metadata": {},
   "outputs": [
    {
     "data": {
      "text/plain": [
       "(74, 74)"
      ]
     },
     "execution_count": 13,
     "metadata": {},
     "output_type": "execute_result"
    }
   ],
   "source": [
    "covariance_mat.shape"
   ]
  },
  {
   "cell_type": "code",
   "execution_count": 14,
   "id": "30011b97-156c-4e1f-ae27-f7cdda723bce",
   "metadata": {},
   "outputs": [],
   "source": [
    "#Using the Ledoit-Wolf Shrinkage\n",
    "from sklearn.covariance import LedoitWolf\n",
    "\n",
    "ld_covariance_mat = LedoitWolf().fit(monthly_returns).covariance_"
   ]
  },
  {
   "cell_type": "code",
   "execution_count": 15,
   "id": "d1e60d47-4fe6-40d3-98c4-2c0c4f709b90",
   "metadata": {},
   "outputs": [
    {
     "data": {
      "text/plain": [
       "(0.017436777644941094, 0.003353680063339898)"
      ]
     },
     "execution_count": 15,
     "metadata": {},
     "output_type": "execute_result"
    }
   ],
   "source": [
    "#Example: Let's see the return of equal weight portfolio\n",
    "#empirical covariance\n",
    "x = np.array([1/74 for i in range(74)])\n",
    "port_return = expected_returns @ x\n",
    "port_variance = x.T @ covariance_mat @ x\n",
    "port_return, port_variance"
   ]
  },
  {
   "cell_type": "code",
   "execution_count": 16,
   "id": "ddeaf348-8ac9-4348-a9a3-66da463edf11",
   "metadata": {},
   "outputs": [
    {
     "data": {
      "text/plain": [
       "(0.017436777644941094, 0.0029690313551677216)"
      ]
     },
     "execution_count": 16,
     "metadata": {},
     "output_type": "execute_result"
    }
   ],
   "source": [
    "#Example: Let's see the return of equal weight portfolio\n",
    "#ledoit-wolf covariance\n",
    "x = np.array([1/74 for i in range(74)])\n",
    "port_return = expected_returns @ x\n",
    "port_variance = x.T @ ld_covariance_mat @ x\n",
    "port_return, port_variance"
   ]
  },
  {
   "cell_type": "code",
   "execution_count": 17,
   "id": "4c75d985-2f19-4a39-9dde-62d10fe3a844",
   "metadata": {},
   "outputs": [
    {
     "data": {
      "text/plain": [
       "(0.008984452822254735, 0.0010042648561005459)"
      ]
     },
     "execution_count": 17,
     "metadata": {},
     "output_type": "execute_result"
    }
   ],
   "source": [
    "#Optimization using CVXPY\n",
    "#empirical covariance\n",
    "x = cp.Variable(74)\n",
    "port_variance = cp.quad_form(x, covariance_mat)\n",
    "port_return = cp.matmul(expected_returns, x)\n",
    "\n",
    "#Objective 1: Find Minimum Variance Portfolio\n",
    "objective = cp.Minimize(port_variance)\n",
    "constraints = [x >= 0, x <= 1,cp.sum(x) == 1]\n",
    "prob = cp.Problem(objective, constraints)\n",
    "result = prob.solve()\n",
    "#some weights are less than 0 but effectively 0 since they are extremely small negative values\n",
    "#check using x.value < -1e-19\n",
    "#x.value show the weights\n",
    "port_return.value, port_variance.value"
   ]
  },
  {
   "cell_type": "code",
   "execution_count": 18,
   "id": "319d6de2-f67a-47f5-a2c4-1d4c3917309b",
   "metadata": {},
   "outputs": [
    {
     "data": {
      "text/plain": [
       "(0.009498135996708268, 0.000997047104320402)"
      ]
     },
     "execution_count": 18,
     "metadata": {},
     "output_type": "execute_result"
    }
   ],
   "source": [
    "#Optimization using CVXPY\n",
    "#ledoit-wolf\n",
    "x = cp.Variable(74)\n",
    "port_variance = cp.quad_form(x, ld_covariance_mat)\n",
    "port_return = cp.matmul(expected_returns, x)\n",
    "\n",
    "#Objective 1: Find Minimum Variance Portfolio\n",
    "objective = cp.Minimize(port_variance)\n",
    "constraints = [x >= 0, x <= 1,cp.sum(x) == 1]\n",
    "prob = cp.Problem(objective, constraints)\n",
    "result = prob.solve()\n",
    "#some weights are less than 0 but effectively 0 since they are extremely small negative values\n",
    "#check using x.value < -1e-19\n",
    "#x.value show the weights\n",
    "port_return.value, port_variance.value"
   ]
  },
  {
   "cell_type": "code",
   "execution_count": 19,
   "id": "d8e366f0-5d77-48f3-b031-ab9f8e6297fb",
   "metadata": {},
   "outputs": [
    {
     "data": {
      "text/plain": [
       "(0.03092546009807136, 0.0035999999901592476)"
      ]
     },
     "execution_count": 19,
     "metadata": {},
     "output_type": "execute_result"
    }
   ],
   "source": [
    "#Objective 2: Maximise return for a given variance\n",
    "#empirical covariance\n",
    "x = cp.Variable(74)\n",
    "port_return = cp.matmul(expected_returns, x)\n",
    "port_variance = cp.quad_form(x, covariance_mat)\n",
    "\n",
    "objective = cp.Maximize(port_return)\n",
    "constraints = [x >= 0, x <= 1,cp.sum(x) == 1, port_variance <= 0.0036]\n",
    "prob = cp.Problem(objective, constraints)\n",
    "result = prob.solve()\n",
    "#x.value show the weights\n",
    "port_return.value, port_variance.value"
   ]
  },
  {
   "cell_type": "code",
   "execution_count": 20,
   "id": "93e9a987-ac81-42fc-bb43-d1d6f7f34bf9",
   "metadata": {},
   "outputs": [
    {
     "data": {
      "text/plain": [
       "(0.03209584335028351, 0.0035999999987148795)"
      ]
     },
     "execution_count": 20,
     "metadata": {},
     "output_type": "execute_result"
    }
   ],
   "source": [
    "#Objective 2: Maximise return for a given variance\n",
    "#ledoit-wolf covariance\n",
    "x = cp.Variable(74)\n",
    "port_return = cp.matmul(expected_returns, x)\n",
    "port_variance = cp.quad_form(x, ld_covariance_mat)\n",
    "\n",
    "objective = cp.Maximize(port_return)\n",
    "constraints = [x >= 0, x <= 1,cp.sum(x) == 1, port_variance <= 0.0036]\n",
    "prob = cp.Problem(objective, constraints)\n",
    "result = prob.solve()\n",
    "#x.value show the weights\n",
    "port_return.value, port_variance.value"
   ]
  },
  {
   "cell_type": "code",
   "execution_count": 21,
   "id": "fab67b4d-dffa-4cb1-b243-ce455ed13baa",
   "metadata": {},
   "outputs": [
    {
     "data": {
      "text/plain": [
       "(0.035, 0.004901173286873908)"
      ]
     },
     "execution_count": 21,
     "metadata": {},
     "output_type": "execute_result"
    }
   ],
   "source": [
    "#Objective 3: Minimise variance for a given return\n",
    "#empirical covariance\n",
    "x = cp.Variable(74)\n",
    "port_return = cp.matmul(expected_returns, x)\n",
    "port_variance = cp.quad_form(x, covariance_mat)\n",
    "\n",
    "objective = cp.Minimize(port_variance)\n",
    "constraints = [x >= 0, x <= 1,cp.sum(x) == 1, port_return >= 0.035]\n",
    "prob = cp.Problem(objective, constraints)\n",
    "result = prob.solve()\n",
    "#x.value show the weights\n",
    "port_return.value, port_variance.value"
   ]
  },
  {
   "cell_type": "code",
   "execution_count": 22,
   "id": "c25ba2e7-54dd-42c2-8358-bbc67096ef77",
   "metadata": {},
   "outputs": [
    {
     "data": {
      "text/plain": [
       "(0.035, 0.004473786883289393)"
      ]
     },
     "execution_count": 22,
     "metadata": {},
     "output_type": "execute_result"
    }
   ],
   "source": [
    "#Objective 3: Minimise variance for a given return\n",
    "#ledoit-wolf covariance\n",
    "x = cp.Variable(74)\n",
    "port_return = cp.matmul(expected_returns, x)\n",
    "port_variance = cp.quad_form(x, ld_covariance_mat)\n",
    "\n",
    "objective = cp.Minimize(port_variance)\n",
    "constraints = [x >= 0, x <= 1,cp.sum(x) == 1, port_return >= 0.035]\n",
    "prob = cp.Problem(objective, constraints)\n",
    "result = prob.solve()\n",
    "#x.value show the weights\n",
    "port_return.value, port_variance.value"
   ]
  },
  {
   "cell_type": "code",
   "execution_count": 23,
   "id": "c5540a31-641a-4a64-af9d-47651d868b06",
   "metadata": {},
   "outputs": [],
   "source": [
    "#Plotting the efficient frontier\n",
    "\n",
    "#First, we create a function that provides the maximum return for a given risk\n",
    "def return_maximizer(risk, covariance_mat):\n",
    "    x = cp.Variable(74)\n",
    "    port_return = cp.matmul(expected_returns, x)\n",
    "    port_variance = cp.quad_form(x, covariance_mat)\n",
    "\n",
    "    objective = cp.Maximize(port_return)\n",
    "    constraints = [x >= 0, x <= 1,cp.sum(x) == 1, port_variance <= risk]\n",
    "    prob = cp.Problem(objective, constraints)\n",
    "    result = prob.solve()\n",
    "    return port_return.value\n",
    "\n",
    "#vectorize function but only vectorize risk, covariance is not vectorized\n",
    "return_maximizer = np.vectorize(return_maximizer)\n",
    "return_maximizer.excluded.add(1)"
   ]
  },
  {
   "cell_type": "code",
   "execution_count": 24,
   "id": "1e9900fa-7a40-4f46-99ce-a8c31235467d",
   "metadata": {},
   "outputs": [
    {
     "data": {
      "text/plain": [
       "Text(0.5, 1.0, 'Efficient Frontier')"
      ]
     },
     "execution_count": 24,
     "metadata": {},
     "output_type": "execute_result"
    },
    {
     "data": {
      "image/png": "[encoded data removed]",
      "text/plain": [
       "<Figure size 640x480 with 1 Axes>"
      ]
     },
     "metadata": {},
     "output_type": "display_data"
    }
   ],
   "source": [
    "#Now we generate the maximum returns for multiple values of risk for plotting\n",
    "#empirical covariance\n",
    "risk_vals = np.linspace(0.0009,0.05,50)\n",
    "max_returns = return_maximizer(risk_vals, covariance_mat)\n",
    "plt.plot(risk_vals, max_returns)\n",
    "plt.xlabel('Risk (Variance)')\n",
    "plt.ylabel('Return')\n",
    "plt.title('Efficient Frontier')"
   ]
  },
  {
   "cell_type": "code",
   "execution_count": 25,
   "id": "73fa23a2-e366-4541-b983-32ade41632af",
   "metadata": {},
   "outputs": [
    {
     "data": {
      "text/plain": [
       "Text(0.5, 1.0, 'Efficient Frontier (Ledoit-Wolf)')"
      ]
     },
     "execution_count": 25,
     "metadata": {},
     "output_type": "execute_result"
    },
    {
     "data": {
      "image/png": "[encoded data removed]",
      "text/plain": [
       "<Figure size 640x480 with 1 Axes>"
      ]
     },
     "metadata": {},
     "output_type": "display_data"
    }
   ],
   "source": [
    "#Now we generate the maximum returns for multiple values of risk for plotting\n",
    "risk_vals = np.linspace(0.0009,0.05,50)\n",
    "max_returns = return_maximizer(risk_vals, ld_covariance_mat)\n",
    "plt.plot(risk_vals, max_returns)\n",
    "plt.xlabel('Risk (Variance)')\n",
    "plt.ylabel('Return')\n",
    "plt.title('Efficient Frontier (Ledoit-Wolf)')"
   ]
  },
  {
   "cell_type": "code",
   "execution_count": 26,
   "id": "7b9e3638-1f5c-47c2-bcaa-f70a6f044afa",
   "metadata": {},
   "outputs": [
    {
     "data": {
      "image/png": "[encoded data removed]",
      "text/plain": [
       "<Figure size 640x480 with 1 Axes>"
      ]
     },
     "metadata": {},
     "output_type": "display_data"
    }
   ],
   "source": [
    "#Both curves together\n",
    "risk_vals = np.linspace(0.0009,0.05,50)\n",
    "max_returns = return_maximizer(risk_vals, covariance_mat)\n",
    "ld_max_returns = return_maximizer(risk_vals, ld_covariance_mat)\n",
    "\n",
    "plt.plot(risk_vals, max_returns, label='Empirical Covariance', color='blue')\n",
    "\n",
    "# Plot the second curve on the same axis\n",
    "plt.plot(risk_vals, ld_max_returns, label='Shrunken Covariance', color='red')\n",
    "\n",
    "# Add labels and a legend\n",
    "plt.xlabel('Risk (Variance)')\n",
    "plt.ylabel('Return')\n",
    "plt.title('Efficient Frontiers')\n",
    "plt.legend()\n",
    "\n",
    "# Show the plot\n",
    "plt.show()"
   ]
  },
  {
   "cell_type": "code",
   "execution_count": 28,
   "id": "0c83c573-5f93-4cc3-a54a-dab3db11a4c8",
   "metadata": {},
   "outputs": [
    {
     "data": {
      "text/plain": [
       "(0.008984452822254735, 0.0010042648561005459)"
      ]
     },
     "execution_count": 28,
     "metadata": {},
     "output_type": "execute_result"
    }
   ],
   "source": [
    "#Using the next few cells, we calculate the minimum variance portfolio across all 3 time\n",
    "#periods, for both empirical and shrunken covariance. Then we compare the results\n",
    "\n",
    "#empirical covariance\n",
    "#Optimization using CVXPY\n",
    "#empirical covariance\n",
    "x = cp.Variable(74)\n",
    "port_variance = cp.quad_form(x, covariance_mat)\n",
    "port_return = cp.matmul(expected_returns, x)\n",
    "\n",
    "#Objective 1: Find Minimum Variance Portfolio\n",
    "objective = cp.Minimize(port_variance)\n",
    "constraints = [x >= 0, x <= 1,cp.sum(x) == 1]\n",
    "prob = cp.Problem(objective, constraints)\n",
    "result = prob.solve()\n",
    "#some weights are less than 0 but effectively 0 since they are extremely small negative values\n",
    "#check using x.value < -1e-19\n",
    "#x.value show the weights\n",
    "port_return.value, port_variance.value"
   ]
  },
  {
   "cell_type": "code",
   "execution_count": 29,
   "id": "57a4f8f4-ff85-4989-8843-3d2a57fc60d8",
   "metadata": {},
   "outputs": [
    {
     "data": {
      "text/plain": [
       "(0.009498135996708268, 0.000997047104320402)"
      ]
     },
     "execution_count": 29,
     "metadata": {},
     "output_type": "execute_result"
    }
   ],
   "source": [
    "#Optimization using CVXPY\n",
    "#ledoit-wolf shrunked covariance\n",
    "ld_x = cp.Variable(74)\n",
    "port_variance = cp.quad_form(ld_x, ld_covariance_mat)\n",
    "port_return = cp.matmul(expected_returns, ld_x)\n",
    "\n",
    "#Objective 1: Find Minimum Variance Portfolio\n",
    "objective = cp.Minimize(port_variance)\n",
    "constraints = [ld_x >= 0, ld_x <= 1,cp.sum(ld_x) == 1]\n",
    "prob = cp.Problem(objective, constraints)\n",
    "result = prob.solve()\n",
    "#some weights are less than 0 but effectively 0 since they are extremely small negative values\n",
    "#check using x.value < -1e-19\n",
    "#x.value show the weights\n",
    "port_return.value, port_variance.value"
   ]
  },
  {
   "cell_type": "code",
   "execution_count": 30,
   "id": "98b8dd41-1bd7-44aa-9cf9-21f0f76fc44f",
   "metadata": {},
   "outputs": [
    {
     "data": {
      "text/plain": [
       "(0.01008517423461401, 0.0005129764379527024)"
      ]
     },
     "execution_count": 30,
     "metadata": {},
     "output_type": "execute_result"
    }
   ],
   "source": [
    "#Minimum variance portfolio for time period 2:\n",
    "#Calculating monthly returns\n",
    "monthly_returns2 = monthly_close2.pct_change().iloc[1:]\n",
    "\n",
    "#Expected monthly return\n",
    "expected_returns2 = monthly_returns2.mean()\n",
    "\n",
    "#Volatility\n",
    "volatility2 = monthly_returns2.std().to_numpy()\n",
    "\n",
    "#Covariance Matrix\n",
    "covariance_mat2 = monthly_returns2.cov().to_numpy()\n",
    "ld_covariance_mat2 = LedoitWolf().fit(monthly_returns2).covariance_\n",
    "\n",
    "#Minimize variance\n",
    "#Optimization using CVXPY\n",
    "x2 = cp.Variable(74)\n",
    "port_variance2 = cp.quad_form(x2, covariance_mat2)\n",
    "port_return2 = cp.matmul(expected_returns2, x2)\n",
    "\n",
    "#Find Minimum Variance Portfolio\n",
    "objective = cp.Minimize(port_variance2)\n",
    "constraints = [x2 >= 0, x2 <= 1,cp.sum(x2) == 1]\n",
    "prob = cp.Problem(objective, constraints)\n",
    "result = prob.solve()\n",
    "#some values are less than 0 but effectively 0 since they are extremely small negative values\n",
    "#check using x.value < -1e-19\n",
    "port_return2.value, port_variance2.value"
   ]
  },
  {
   "cell_type": "code",
   "execution_count": 31,
   "id": "74397c44-d1da-4f43-962a-6c0fac192df6",
   "metadata": {},
   "outputs": [
    {
     "data": {
      "text/plain": [
       "(0.010169510356593572, 0.00046660473990411846)"
      ]
     },
     "execution_count": 31,
     "metadata": {},
     "output_type": "execute_result"
    }
   ],
   "source": [
    "#Now using the Ledoit-Wolf shrunk covariance\n",
    "#Minimize variance\n",
    "#Optimization using CVXPY\n",
    "ld_x2 = cp.Variable(74)\n",
    "port_variance2 = cp.quad_form(ld_x2, ld_covariance_mat2)\n",
    "port_return2 = cp.matmul(expected_returns2, ld_x2)\n",
    "\n",
    "#Find Minimum Variance Portfolio\n",
    "objective = cp.Minimize(port_variance2)\n",
    "constraints = [ld_x2 >= 0, ld_x2 <= 1,cp.sum(ld_x2) == 1]\n",
    "prob = cp.Problem(objective, constraints)\n",
    "result = prob.solve()\n",
    "#some values are less than 0 but effectively 0 since they are extremely small negative values\n",
    "#check using x.value < -1e-19\n",
    "port_return2.value, port_variance2.value"
   ]
  },
  {
   "cell_type": "code",
   "execution_count": 32,
   "id": "46526c11-eab7-43d1-89b4-38470499cfc3",
   "metadata": {},
   "outputs": [
    {
     "data": {
      "text/plain": [
       "(0.017317667296336443, 0.0005401507734417399)"
      ]
     },
     "execution_count": 32,
     "metadata": {},
     "output_type": "execute_result"
    }
   ],
   "source": [
    "#Minimum variance portfolio for time period 3:\n",
    "#Calculating monthly returns\n",
    "monthly_returns3 = monthly_close3.pct_change().iloc[1:]\n",
    "\n",
    "#Expected monthly return\n",
    "expected_returns3 = monthly_returns3.mean()\n",
    "\n",
    "#Volatility\n",
    "volatility3 = monthly_returns3.std().to_numpy()\n",
    "\n",
    "#Covariance Matrix\n",
    "covariance_mat3 = monthly_returns3.cov().to_numpy()\n",
    "ld_covariance_mat3 = LedoitWolf().fit(monthly_returns3).covariance_\n",
    "\n",
    "#Minimize variance\n",
    "#Optimization using CVXPY\n",
    "x3 = cp.Variable(74)\n",
    "port_variance3 = cp.quad_form(x3, covariance_mat3)\n",
    "port_return3 = cp.matmul(expected_returns3, x3)\n",
    "\n",
    "#Find Minimum Variance Portfolio\n",
    "objective = cp.Minimize(port_variance3)\n",
    "constraints = [x3 >= 0, x3 <= 1,cp.sum(x3) == 1]\n",
    "prob = cp.Problem(objective, constraints)\n",
    "result = prob.solve()\n",
    "#some values are less than 0 but effectively 0 since they are extremely small negative values\n",
    "#check using x.value < -1e-19\n",
    "port_return3.value, port_variance3.value"
   ]
  },
  {
   "cell_type": "code",
   "execution_count": 33,
   "id": "5c94eb16-71aa-4819-a5dc-fe2547213356",
   "metadata": {},
   "outputs": [
    {
     "data": {
      "text/plain": [
       "(0.018898703821089827, 0.0005686903985752443)"
      ]
     },
     "execution_count": 33,
     "metadata": {},
     "output_type": "execute_result"
    }
   ],
   "source": [
    "#Now using Ledoit-Wolf shrunk covariance\n",
    "#Minimize variance\n",
    "#Optimization using CVXPY\n",
    "ld_x3 = cp.Variable(74)\n",
    "port_variance3 = cp.quad_form(ld_x3, ld_covariance_mat3)\n",
    "port_return3 = cp.matmul(expected_returns3, ld_x3)\n",
    "\n",
    "#Find Minimum Variance Portfolio\n",
    "objective = cp.Minimize(port_variance3)\n",
    "constraints = [ld_x3 >= 0, ld_x3 <= 1,cp.sum(ld_x3) == 1]\n",
    "prob = cp.Problem(objective, constraints)\n",
    "result = prob.solve()\n",
    "#some values are less than 0 but effectively 0 since they are extremely small negative values\n",
    "#check using x.value < -1e-19\n",
    "port_return3.value, port_variance3.value"
   ]
  },
  {
   "cell_type": "code",
   "execution_count": 34,
   "id": "322c1d01-c750-4dcd-b16e-2f3778b24e2b",
   "metadata": {},
   "outputs": [
    {
     "data": {
      "text/plain": [
       "0.28717646266244556"
      ]
     },
     "execution_count": 34,
     "metadata": {},
     "output_type": "execute_result"
    }
   ],
   "source": [
    "#Time period 1 vs 2 (empirical covariance portfolio stability)\n",
    "cp.norm(x-x2).value / np.sqrt(2)"
   ]
  },
  {
   "cell_type": "code",
   "execution_count": 35,
   "id": "37717d4a-bdb2-43ec-a27c-eddcf1ca1b14",
   "metadata": {},
   "outputs": [
    {
     "data": {
      "text/plain": [
       "0.19045604435830035"
      ]
     },
     "execution_count": 35,
     "metadata": {},
     "output_type": "execute_result"
    }
   ],
   "source": [
    "#Time period 1 vs 2 (shrunken covariance portfolio stability)\n",
    "cp.norm(ld_x-ld_x2).value / np.sqrt(2)"
   ]
  },
  {
   "cell_type": "code",
   "execution_count": 36,
   "id": "92cd4b74-62ef-4c8e-b5f0-bae7cda5541c",
   "metadata": {},
   "outputs": [
    {
     "data": {
      "text/plain": [
       "0.28132519697847946"
      ]
     },
     "execution_count": 36,
     "metadata": {},
     "output_type": "execute_result"
    }
   ],
   "source": [
    "#Time period 2 vs 3 (empirical covariance portfolio stability)\n",
    "cp.norm(x2-x3).value / np.sqrt(2)"
   ]
  },
  {
   "cell_type": "code",
   "execution_count": 37,
   "id": "e34464cb-dece-45c1-8504-c35956bb3066",
   "metadata": {},
   "outputs": [
    {
     "data": {
      "text/plain": [
       "0.1638430580480359"
      ]
     },
     "execution_count": 37,
     "metadata": {},
     "output_type": "execute_result"
    }
   ],
   "source": [
    "#Time period 2 vs 3 (shrunken covariance portfolio stability)\n",
    "cp.norm(ld_x2-ld_x3).value / np.sqrt(2)"
   ]
  },
  {
   "cell_type": "code",
   "execution_count": 38,
   "id": "eb5ce128-fa84-48bb-8867-2a588163da7b",
   "metadata": {},
   "outputs": [
    {
     "data": {
      "text/plain": [
       "0.22798584439924377"
      ]
     },
     "execution_count": 38,
     "metadata": {},
     "output_type": "execute_result"
    }
   ],
   "source": [
    "#Time period 1 vs 3 (empirical covariance portfolio stability)\n",
    "cp.norm(x-x3).value / np.sqrt(2)"
   ]
  },
  {
   "cell_type": "code",
   "execution_count": 39,
   "id": "7bc3ac28-4edb-4e4d-b77f-d1b61f3f8c04",
   "metadata": {},
   "outputs": [
    {
     "data": {
      "text/plain": [
       "0.2012451496430769"
      ]
     },
     "execution_count": 39,
     "metadata": {},
     "output_type": "execute_result"
    }
   ],
   "source": [
    "#Time period 1 vs 3 (shrunken covariance portfolio stability)\n",
    "cp.norm(ld_x-ld_x3).value / np.sqrt(2)"
   ]
  }
 ],
 "metadata": {
  "kernelspec": {
   "display_name": "Python 3 (ipykernel)",
   "language": "python",
   "name": "python3"
  },
  "language_info": {
   "codemirror_mode": {
    "name": "ipython",
    "version": 3
   },
   "file_extension": ".py",
   "mimetype": "text/x-python",
   "name": "python",
   "nbconvert_exporter": "python",
   "pygments_lexer": "ipython3",
   "version": "3.10.6"
  }
 },
 "nbformat": 4,
 "nbformat_minor": 5
}
